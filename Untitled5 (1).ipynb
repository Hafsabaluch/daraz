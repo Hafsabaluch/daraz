{
  "nbformat": 4,
  "nbformat_minor": 0,
  "metadata": {
    "colab": {
      "provenance": []
    },
    "kernelspec": {
      "name": "python3",
      "display_name": "Python 3"
    },
    "language_info": {
      "name": "python"
    }
  },
  "cells": [
    {
      "cell_type": "code",
      "execution_count": 2,
      "metadata": {
        "colab": {
          "base_uri": "https://localhost:8080/"
        },
        "id": "C7JajI0eAW-O",
        "outputId": "4d893665-1151-44d9-e442-14a9b824b761"
      },
      "outputs": [
        {
          "output_type": "stream",
          "name": "stdout",
          "text": [
            "------Daraz------\n",
            "login or signup\n",
            "Enter your nameAfsan baloch\n",
            "Enter your emailbalochhafsa925@gmail.com\n",
            "Enter your city karachi\n",
            "Enter your number 9843789340750347\n",
            "First category has following items oil&ghee \n",
            " rice&flour \n",
            " spices \n",
            " ketchup&mayonnise \n",
            "  Second category has following items plates \n",
            " cups \n",
            " bowl \n",
            " spoons \n",
            " glass \n",
            " Third category has fllowing items lipstick \n",
            " blush \n",
            " foundation \n",
            " highlighter \n",
            " primer \n",
            " fourth category has the folloeing items tabs \n",
            " laptop \n",
            " PC \n",
            " mobile phones \n",
            " fifth category has the following items pendant\n",
            " rings \n",
            " nacklace \n",
            " bracelet \n",
            " anklet\n",
            "Enter this category productspices\n",
            "Enter this category productbowl\n",
            "Enter this category productprimer\n",
            "Enter this category productPC\n",
            "Enter this category productanklet\n",
            "You have purchased your item\n",
            "------THANK YOU FOR CHOOSING DARAZ----\n",
            "This item has been purchased by: Afsan baloch\n",
            "Feedback\n"
          ]
        }
      ],
      "source": [
        "print(\"------Daraz------\")\n",
        "print(\"login or signup\")\n",
        "str1=str(input(\"Enter your name\"))\n",
        "str2=str(input(\"Enter your email\"))\n",
        "str3=str(input(\"Enter your city\"))\n",
        "int1=int(input(\"Enter your number\"))\n",
        "print(\"First category has following items oil&ghee \\n rice&flour \\n spices \\n ketchup&mayonnise \\n  Second category has following items plates \\n cups \\n bowl \\n spoons \\n glass \\n Third category has fllowing items lipstick \\n blush \\n foundation \\n highlighter \\n primer \\n fourth category has the folloeing items tabs \\n laptop \\n PC \\n mobile phones \\n fifth category has the following items pendant\\n rings \\n nacklace \\n bracelet \\n anklet\")\n",
        "category1_groceries=str(input(\"Enter this category product\"))\n",
        "category2_crockery=str(input(\"Enter this category product\"))\n",
        "category3_beautyproducts=str(input(\"Enter this category product\"))\n",
        "category4_Electronics=str(input(\"Enter this category product\"))\n",
        "category5_jewellery=str(input(\"Enter this category product\"))\n",
        "if (category1_groceries in [\"oil&ghee\", \"rice&flour\", \"spices\", \"ketchup&mayonnaise\"] or\n",
        "    category2_crockery in [\"plates\", \"cups\", \"bowl\", \"spoons\", \"glass\"] or\n",
        "    category3_beautyproducts in [\"lipstick\", \"blush\", \"foundation\", \"highlighter\", \"primer\"] or\n",
        "    category4_Electronics in [\"tabs\", \"laptop\", \"PC\", \"mobilephones\"] or\n",
        "    category5_jewellery in [\"pendant\", \"rings\", \"necklace\", \"bracelet\", \"anklet\"]):\n",
        "\n",
        "    print(\"You have purchased your item\")\n",
        "    print(\"------THANK YOU FOR CHOOSING DARAZ----\")\n",
        "    print(\"This item has been purchased by:\", str1)\n",
        "    print(\"Feedback\")\n",
        "else:\n",
        "    print(\"The entered product is not available.\")\n",
        "\n",
        "\n",
        "\n",
        "\n"
      ]
    },
    {
      "cell_type": "code",
      "source": [],
      "metadata": {
        "id": "_myKA9kdNXXe"
      },
      "execution_count": null,
      "outputs": []
    }
  ]
}